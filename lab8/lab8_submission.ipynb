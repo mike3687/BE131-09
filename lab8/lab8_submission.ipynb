{
 "cells": [
  {
   "cell_type": "markdown",
   "metadata": {},
   "source": [
    "# Lab Notebook\n",
    "\n",
    "    Course: BioE 131\n",
    "    Lab No: Lab #8\n",
    "    Submission date: Oct 24, 2018\n",
    "    \n",
    "    Team members: Michael Fernandez, Jinho Ko"
   ]
  },
  {
   "cell_type": "markdown",
   "metadata": {},
   "source": [
    "## Execute sequence alignment\n",
    "\n",
    "screen\n",
    "\n",
    "-- < in screen > --  \n",
    "spades -o /home/be131-08/lab8/  -1 /data/lab8/illumina_reads_R1.fastq -2 /data/lab8/illumina_reads_R2.fastq --pacbio /data/lab8/pacbio_reads.fastq -t 1\n",
    "\n",
    "-- < detached > --  \n",
    "32451.pts-195.meowth    (10/12/2018 05:59:56 PM)        (Detached)\n",
    "\n",
    "![./terminal.JPG.jpg](./terminal.JPG)"
   ]
  },
  {
   "cell_type": "markdown",
   "metadata": {},
   "source": [
    "## Question about spades\n",
    "\n",
    "**Why do we expect short reads to produce a more fragmented assembly than long reads?**\n",
    "\n",
    "In alignment scoring scheme, short reads would be more likely to result in high match score, which have more possibility for producing more fragmented assembly.\n",
    "\n",
    "**Why does a single-molecule sequencing like PacBio have a higher error rate than Illumina?**\n",
    "\n",
    "Pacbio has more long reads compared to programs like Illumina, therefore have higher error rates.\n",
    "\n"
   ]
  },
  {
   "cell_type": "markdown",
   "metadata": {},
   "source": [
    "## SPAdes result\n",
    "\n",
    "===== Assembling finished. Used k-mer sizes: 21, 33, 55, 77, 99, 127 \n",
    "\n",
    " * Corrected reads are in /home/be131-08/lab8/corrected/\n",
    " * Assembled contigs are in /home/be131-08/lab8/contigs.fasta\n",
    " * Assembled scaffolds are in /home/be131-08/lab8/scaffolds.fasta\n",
    " * Assembly graph is in /home/be131-08/lab8/assembly_graph.fastg\n",
    " * Assembly graph in GFA format is in /home/be131-08/lab8/assembly_graph_with_scaffolds.gfa\n",
    " * Paths in the assembly graph corresponding to the contigs are in /home/be131-08/lab8/contigs.paths\n",
    " * Paths in the assembly graph corresponding to the scaffolds are in /home/be131-08/lab8/scaffolds.paths\n",
    "\n",
    "======= SPAdes pipeline finished WITH WARNINGS!\n",
    "\n",
    "=== Error correction and assembling warnings:\n",
    " * 0:20:28.353   564M / 1G    WARN    General                 (kmer_coverage_model.cpp   : 218)   Too many erroneous kmers, the estimates might be unreliable\n",
    "======= Warnings saved to /home/be131-08/lab8/warnings.log\n",
    "\n",
    "SPAdes log can be found here: /home/be131-08/lab8/spades.log\n",
    "\n",
    "Thank you for using SPAdes!"
   ]
  },
  {
   "cell_type": "markdown",
   "metadata": {},
   "source": [
    "## Assembly-stats\n",
    "\n",
    "be131-08@meowth:~/lab8$ assembly-stats contigs.fasta  \n",
    "stats for contigs.fasta  \n",
    "**sum = 6678635, n = 176**, ave = 37946.79, largest = 414008  \n",
    "N50 = 234690, **n = 11**  \n",
    "N_count = 0  \n",
    "Gaps = 0  \n",
    "\n",
    "be131-08@meowth:~/lab8$ assembly-stats scaffolds.fasta  \n",
    "stats for scaffolds.fasta  \n",
    "**sum = 6678655, n = 174**, ave = 38383.07, largest = 414008  \n",
    "N50 = 234690, **n = 11**  \n",
    "N_count = 20  \n",
    "Gaps = 2  \n",
    "\n",
    "**Why is N50 is useful statistic to calculate? Why not just list the mean or median contig length?**\n",
    "In your assembly, are scaffolds longer than contigs, or are scaffolds approximately equal to contigs?\n",
    "\n",
    "It gives the idea about the most meaningful reads and overally how successful our reads were in creating contigs. \n",
    "\n",
    "We don't use mean because there are many smaller reads in the total alignment, which would weight our mean towards smaller length contigs that are less useful. We are interested in areas where reads came together to form a significant portion of our alignment. \n",
    "\n",
    "Scafolds should have longer elements but should have less elements because scafolds are made out of joined contigs.\n",
    "\n",
    "\n"
   ]
  },
  {
   "cell_type": "code",
   "execution_count": 28,
   "metadata": {},
   "outputs": [
    {
     "name": "stdout",
     "output_type": "stream",
     "text": [
      "14.047800113636363\n"
     ]
    },
    {
     "data": {
      "image/png": "[encoded data removed]",
      "text/plain": [
       "<Figure size 432x288 with 1 Axes>"
      ]
     },
     "metadata": {
      "needs_background": "light"
     },
     "output_type": "display_data"
    },
    {
     "data": {
      "image/png": "[encoded data removed]",
      "text/plain": [
       "<Figure size 432x288 with 1 Axes>"
      ]
     },
     "metadata": {
      "needs_background": "light"
     },
     "output_type": "display_data"
    }
   ],
   "source": [
    "import matplotlib.pyplot as plt\n",
    "\n",
    "file_io = open('contigs.fasta','r')\n",
    "contig_list = []\n",
    "\n",
    "for line in file_io.read().split('\\n'):\n",
    "    if len(line) is 0 :\n",
    "        break\n",
    "    if line[0] == '>':\n",
    "        tmp = line[line.index('cov')+4:-1]\n",
    "        contig_list.append(float(tmp))\n",
    "\n",
    "print(sum(contig_list)/len((contig_list)))\n",
    "plt.xlabel('Coverage')\n",
    "plt.ylabel('Count')\n",
    "\n",
    "p = plt.hist(contig_list,bins = 100)\n",
    "\n",
    "# display every data\n",
    "plt.show()\n",
    "\n",
    "for i in contig_list:\n",
    "    if i > 50.0:\n",
    "        contig_list.remove(i)\n",
    "        \n",
    "contig_list[-1]=0\n",
    "        \n",
    "plt.xlabel('Coverage below 50')\n",
    "plt.ylabel('Count')\n",
    "p = plt.hist(contig_list,bins = 100)\n",
    "\n",
    "# display below 50\n",
    "plt.show()"
   ]
  },
  {
   "cell_type": "markdown",
   "metadata": {},
   "source": [
    "## Extra credit : Histogram questions\n",
    "\n",
    "**Is coverage uniformly distributed? Does it look Gaussian? \n",
    "Is it bimodalor trimodal? What explains the presence of contigs with coverage an integer multiple of the mean coverage?**\n",
    "\n",
    "The coverage is bimodular and the reason it is an integer multiple of mean coverage is because it is likley that this contig has multiple copies of this region. Which makes sense because many bacteria have multiple copies of the same gene."
   ]
  },
  {
   "cell_type": "markdown",
   "metadata": {},
   "source": [
    "## rna_hmm3.py\n",
    "\n",
    "rna_hmm3.py -i contigs.fasta -o contigs_hmm.gff  \n",
    "\n",
    "##seq_name\tmethod\tfeature\tstart\tend\tevalue\tstrand\tframe\tattribute  \n",
    "NODE_23_length_103367_cov_10.081286\trna_hmm3\trRNA\t35531\t37075\t0\t+\tNA\t16S_rRNA  \n",
    "NODE_18_length_154232_cov_9.584186\trna_hmm3\trRNA\t124542\t126086\t0\t+\tNA\t16S_rRNA  \n",
    "NODE_5_length_327223_cov_9.241629\trna_hmm3\trRNA\t46286\t47830\t0\t+\tNA\t16S_rRNA  \n",
    "NODE_6_length_298784_cov_8.918606\trna_hmm3\trRNA\t13926\t15470\t0\t+\tNA\t16S_rRNA  \n",
    "NODE_4_length_332509_cov_9.114046\trna_hmm3\trRNA\t137012\t138556\t0\t-\tNA\t16S_rRNA  \n",
    "NODE_2_length_378948_cov_10.006665\trna_hmm3\trRNA\t348500\t350044\t0\t+\tNA\t16S_rRNA  \n"
   ]
  },
  {
   "cell_type": "markdown",
   "metadata": {},
   "source": [
    "## bedtools\n",
    "\n",
    "bedtools getfasta -fi contigs.fasta -bed contigs_hmm.gff\n",
    "\n",
    ">NODE_23_length_103367_cov_10.081286:35530-37075\n",
    "TTTGAACTGAAGAGTTTGATCATGGCTCAGATTGAACGCTGGCGGCAGGCCTAACACATGCAAGTCGAGCGGTAGAGAGGTGCTTGCACCTCTTGAGAGCGGCGGACGGGTGAGTAATGCCTAGGAATCTGCCTGGTAGTGGGGGATAACGCTCGGAAACGGACGCTAATACCGCATACGTCCTACGGGAGAAAGCAGGGGACCTTCGGGCCTTGCGCTATCAGATGAGCCTAGGTCGGATTAGCTAGTTGGTGAGGTAATGGCTCACCAAGGCGACGATCCGTAACTGGTCTGAGAGGATGATCAGTCACACTGGAACTGAGACACGGTCCAGACTCCTACGGGAGGCAGCAGTGGGGAATATTGGACAATGGGCGAAAGCCTGATCCAGCCATGCCGCGTGTGTGAAGAAGGTCTTCGGATTGTAAAGCACTTTAAGTTGGGAGGAAGGGCAGTTACCTAATACGTAATTGTTTTGACGTTACCGACAGAATAAGCACCGGCTAACTCTGTGCCAGCAGCCGCGGTAATACAGAGGGTGCAAGCGTTAATCGGAATTACTGGGCGTAAAGCGCGCGTAGGTGGTTCGTTAAGTTGGATGTGAAATCCCCGGGCTCAACCTGGGAACTGCATTCAAAACTGACGAGCTAGAGTATGGTAGAGGGTGGTGGAATTTCCTGTGTAGCGGTGAAATGCGTAGATATAGGAAGGAACACCAGTGGCGAAGGCGACCACCTGGACTGATACTGACACTGAGGTGCGAAAGCGTGGGGAGCAAACAGGATTAGATACCCTGGTAGTCCACGCCGTAAACGATGTCAACTAGCCGTTGGGAGCCTTGAGCTCTTAGTGGCGCAGCTAACGCATTAAGTTGACCGCCTGGGGAGTACGGCCGCAAGGTTAAAACTCAAATGAATTGACGGGGGCCCGCACAAGCGGTGGAGCATGTGGTTTAATTCGAAGCAACGCGAAGAACCTTACCAGGCCTTGACATCCAATGAACTTTCCAGAGATGGATTGGTGCCTTCGGGAACATTGAGACAGGTGCTGCATGGCTGTCGTCAGCTCGTGTCGTGAGATGTTGGGTTAAGTCCCGTAACGAGCGCAACCCTTGTCCTTAGTTACCAGCACGTAATGGTGGGCACTCTAAGGAGACTGCCGGTGACAAACCGGAGGAAGGTGGGGATGACGTCAAGTCATCATGGCCCTTACGGCCTGGGCTACACACGTGCTACAATGGTCGGTACAGAGGGTTGCCAAGCCGCGAGGTGGAGCTAATCCCAGAAAACCGATCGTAGTCCGGATCGCAGTCTGCAACTCGACTGCGTGAAGTCGGAATCGCTAGTAATCGCGAATCAGAATGTCGCGGTGAATACGTTCCCGGGCCTTGTACACACCGCCCGTCACACCATGGGAGTGGGTTGCACCAGAAGTAGCTAGTCTAACCTTCGGGAGGACGGTTACCACGGTGTGATTCATGACTGGGGTGAAGTCGTAACAAGGTAGCCGTAGGGGAACCTGCGGCTGGATCACCTCCTTAATCGA\n",
    ">NODE_18_length_154232_cov_9.584186:124541-126086\n",
    "TTTGAACTGAAGAGTTTGATCATGGCTCAGATTGAACGCTGGCGGCAGGCCTAACACATGCAAGTCGAGCGGTAGAGAGGTGCTTGCACCTCTTGAGAGCGGCGGACGGGTGAGTAATGCCTAGGAATCTGCCTGGTAGTGGGGGATAACGCTCGGAAACGGACGCTAATACCGCATACGTCCTACGGGAGAAAGCAGGGGACCTTCGGGCCTTGCGCTATCAGATGAGCCTAGGTCGGATTAGCTAGTTGGTGAGGTAATGGCTCACCAAGGCGACGATCCGTAACTGGTCTGAGAGGATGATCAGTCACACTGGAACTGAGACACGGTCCAGACTCCTACGGGAGGCAGCAGTGGGGAATATTGGACAATGGGCGAAAGCCTGATCCAGCCATGCCGCGTGTGTGAAGAAGGTCTTCGGATTGTAAAGCACTTTAAGTTGGGAGGAAGGGCAGTTACCTAATACGTAATTGTTTTGACGTTACCGACAGAATAAGCACCGGCTAACTCTGTGCCAGCAGCCGCGGTAATACAGAGGGTGCAAGCGTTAATCGGAATTACTGGGCGTAAAGCGCGCGTAGGTGGTTCGTTAAGTTGGATGTGAAATCCCCGGGCTCAACCTGGGAACTGCATTCAAAACTGACGAGCTAGAGTATGGTAGAGGGTGGTGGAATTTCCTGTGTAGCGGTGAAATGCGTAGATATAGGAAGGAACACCAGTGGCGAAGGCGACCACCTGGACTGATACTGACACTGAGGTGCGAAAGCGTGGGGAGCAAACAGGATTAGATACCCTGGTAGTCCACGCCGTAAACGATGTCAACTAGCCGTTGGGAGCCTTGAGCTCTTAGTGGCGCAGCTAACGCATTAAGTTGACCGCCTGGGGAGTACGGCCGCAAGGTTAAAACTCAAATGAATTGACGGGGGCCCGCACAAGCGGTGGAGCATGTGGTTTAATTCGAAGCAACGCGAAGAACCTTACCAGGCCTTGACATCCAATGAACTTTCCAGAGATGGATTGGTGCCTTCGGGAACATTGAGACAGGTGCTGCATGGCTGTCGTCAGCTCGTGTCGTGAGATGTTGGGTTAAGTCCCGTAACGAGCGCAACCCTTGTCCTTAGTTACCAGCACGTAATGGTGGGCACTCTAAGGAGACTGCCGGTGACAAACCGGAGGAAGGTGGGGATGACGTCAAGTCATCATGGCCCTTACGGCCTGGGCTACACACGTGCTACAATGGTCGGTACAGAGGGTTGCCAAGCCGCGAGGTGGAGCTAATCCCAGAAAACCGATCGTAGTCCGGATCGCAGTCTGCAACTCGACTGCGTGAAGTCGGAATCGCTAGTAATCGCGAATCAGAATGTCGCGGTGAATACGTTCCCGGGCCTTGTACACACCGCCCGTCACACCATGGGAGTGGGTTGCACCAGAAGTAGCTAGTCTAACCTTCGGGAGGACGGTTACCACGGTGTGATTCATGACTGGGGTGAAGTCGTAACAAGGTAGCCGTAGGGGAACCTGCGGCTGGATCACCTCCTTAATCGA\n",
    ">NODE_5_length_327223_cov_9.241629:46285-47830\n",
    "TTTGAACTGAAGAGTTTGATCATGGCTCAGATTGAACGCTGGCGGCAGGCCTAACACATGCAAGTCGAGCGGTAGAGAGGTGCTTGCACCTCTTGAGAGCGGCGGACGGGTGAGTAATGCCTAGGAATCTGCCTGGTAGTGGGGGATAACGCTCGGAAACGGACGCTAATACCGCATACGTCCTACGGGAGAAAGCAGGGGACCTTCGGGCCTTGCGCTATCAGATGAGCCTAGGTCGGATTAGCTAGTTGGTGAGGTAATGGCTCACCAAGGCGACGATCCGTAACTGGTCTGAGAGGATGATCAGTCACACTGGAACTGAGACACGGTCCAGACTCCTACGGGAGGCAGCAGTGGGGAATATTGGACAATGGGCGAAAGCCTGATCCAGCCATGCCGCGTGTGTGAAGAAGGTCTTCGGATTGTAAAGCACTTTAAGTTGGGAGGAAGGGCAGTTACCTAATACGTAATTGTTTTGACGTTACCGACAGAATAAGCACCGGCTAACTCTGTGCCAGCAGCCGCGGTAATACAGAGGGTGCAAGCGTTAATCGGAATTACTGGGCGTAAAGCGCGCGTAGGTGGTTCGTTAAGTTGGATGTGAAATCCCCGGGCTCAACCTGGGAACTGCATTCAAAACTGACGAGCTAGAGTATGGTAGAGGGTGGTGGAATTTCCTGTGTAGCGGTGAAATGCGTAGATATAGGAAGGAACACCAGTGGCGAAGGCGACCACCTGGACTGATACTGACACTGAGGTGCGAAAGCGTGGGGAGCAAACAGGATTAGATACCCTGGTAGTCCACGCCGTAAACGATGTCAACTAGCCGTTGGGAGCCTTGAGCTCTTAGTGGCGCAGCTAACGCATTAAGTTGACCGCCTGGGGAGTACGGCCGCAAGGTTAAAACTCAAATGAATTGACGGGGGCCCGCACAAGCGGTGGAGCATGTGGTTTAATTCGAAGCAACGCGAAGAACCTTACCAGGCCTTGACATCCAATGAACTTTCCAGAGATGGATTGGTGCCTTCGGGAACATTGAGACAGGTGCTGCATGGCTGTCGTCAGCTCGTGTCGTGAGATGTTGGGTTAAGTCCCGTAACGAGCGCAACCCTTGTCCTTAGTTACCAGCACGTAATGGTGGGCACTCTAAGGAGACTGCCGGTGACAAACCGGAGGAAGGTGGGGATGACGTCAAGTCATCATGGCCCTTACGGCCTGGGCTACACACGTGCTACAATGGTCGGTACAGAGGGTTGCCAAGCCGCGAGGTGGAGCTAATCCCAGAAAACCGATCGTAGTCCGGATCGCAGTCTGCAACTCGACTGCGTGAAGTCGGAATCGCTAGTAATCGCGAATCAGAATGTCGCGGTGAATACGTTCCCGGGCCTTGTACACACCGCCCGTCACACCATGGGAGTGGGTTGCACCAGAAGTAGCTAGTCTAACCTTCGGGAGGACGGTTACCACGGTGTGATTCATGACTGGGGTGAAGTCGTAACAAGGTAGCCGTAGGGGAACCTGCGGCTGGATCACCTCCTTAATCGA\n",
    ">NODE_6_length_298784_cov_8.918606:13925-15470\n",
    "TTTGAACTGAAGAGTTTGATCATGGCTCAGATTGAACGCTGGCGGCAGGCCTAACACATGCAAGTCGAGCGGTAGAGAGGTGCTTGCACCTCTTGAGAGCGGCGGACGGGTGAGTAATGCCTAGGAATCTGCCTGGTAGTGGGGGATAACGCTCGGAAACGGACGCTAATACCGCATACGTCCTACGGGAGAAAGCAGGGGACCTTCGGGCCTTGCGCTATCAGATGAGCCTAGGTCGGATTAGCTAGTTGGTGAGGTAATGGCTCACCAAGGCGACGATCCGTAACTGGTCTGAGAGGATGATCAGTCACACTGGAACTGAGACACGGTCCAGACTCCTACGGGAGGCAGCAGTGGGGAATATTGGACAATGGGCGAAAGCCTGATCCAGCCATGCCGCGTGTGTGAAGAAGGTCTTCGGATTGTAAAGCACTTTAAGTTGGGAGGAAGGGCAGTTACCTAATACGTAATTGTTTTGACGTTACCGACAGAATAAGCACCGGCTAACTCTGTGCCAGCAGCCGCGGTAATACAGAGGGTGCAAGCGTTAATCGGAATTACTGGGCGTAAAGCGCGCGTAGGTGGTTCGTTAAGTTGGATGTGAAATCCCCGGGCTCAACCTGGGAACTGCATTCAAAACTGACGAGCTAGAGTATGGTAGAGGGTGGTGGAATTTCCTGTGTAGCGGTGAAATGCGTAGATATAGGAAGGAACACCAGTGGCGAAGGCGACCACCTGGACTGATACTGACACTGAGGTGCGAAAGCGTGGGGAGCAAACAGGATTAGATACCCTGGTAGTCCACGCCGTAAACGATGTCAACTAGCCGTTGGGAGCCTTGAGCTCTTAGTGGCGCAGCTAACGCATTAAGTTGACCGCCTGGGGAGTACGGCCGCAAGGTTAAAACTCAAATGAATTGACGGGGGCCCGCACAAGCGGTGGAGCATGTGGTTTAATTCGAAGCAACGCGAAGAACCTTACCAGGCCTTGACATCCAATGAACTTTCCAGAGATGGATTGGTGCCTTCGGGAACATTGAGACAGGTGCTGCATGGCTGTCGTCAGCTCGTGTCGTGAGATGTTGGGTTAAGTCCCGTAACGAGCGCAACCCTTGTCCTTAGTTACCAGCACGTAATGGTGGGCACTCTAAGGAGACTGCCGGTGACAAACCGGAGGAAGGTGGGGATGACGTCAAGTCATCATGGCCCTTACGGCCTGGGCTACACACGTGCTACAATGGTCGGTACAGAGGGTTGCCAAGCCGCGAGGTGGAGCTAATCCCAGAAAACCGATCGTAGTCCGGATCGCAGTCTGCAACTCGACTGCGTGAAGTCGGAATCGCTAGTAATCGCGAATCAGAATGTCGCGGTGAATACGTTCCCGGGCCTTGTACACACCGCCCGTCACACCATGGGAGTGGGTTGCACCAGAAGTAGCTAGTCTAACCTTCGGGAGGACGGTTACCACGGTGTGATTCATGACTGGGGTGAAGTCGTAACAAGGTAGCCGTAGGGGAACCTGCGGCTGGATCACCTCCTTAATCGA\n",
    ">NODE_4_length_332509_cov_9.114046:137011-138556\n",
    "TCGATTAAGGAGGTGATCCAGCCGCAGGTTCCCCTACGGCTACCTTGTTACGACTTCACCCCAGTCATGAATCACACCGTGGTAACCGTCCTCCCGAAGGTTAGACTAGCTACTTCTGGTGCAACCCACTCCCATGGTGTGACGGGCGGTGTGTACAAGGCCCGGGAACGTATTCACCGCGACATTCTGATTCGCGATTACTAGCGATTCCGACTTCACGCAGTCGAGTTGCAGACTGCGATCCGGACTACGATCGGTTTTCTGGGATTAGCTCCACCTCGCGGCTTGGCAACCCTCTGTACCGACCATTGTAGCACGTGTGTAGCCCAGGCCGTAAGGGCCATGATGACTTGACGTCATCCCCACCTTCCTCCGGTTTGTCACCGGCAGTCTCCTTAGAGTGCCCACCATTACGTGCTGGTAACTAAGGACAAGGGTTGCGCTCGTTACGGGACTTAACCCAACATCTCACGACACGAGCTGACGACAGCCATGCAGCACCTGTCTCAATGTTCCCGAAGGCACCAATCCATCTCTGGAAAGTTCATTGGATGTCAAGGCCTGGTAAGGTTCTTCGCGTTGCTTCGAATTAAACCACATGCTCCACCGCTTGTGCGGGCCCCCGTCAATTCATTTGAGTTTTAACCTTGCGGCCGTACTCCCCAGGCGGTCAACTTAATGCGTTAGCTGCGCCACTAAGAGCTCAAGGCTCCCAACGGCTAGTTGACATCGTTTACGGCGTGGACTACCAGGGTATCTAATCCTGTTTGCTCCCCACGCTTTCGCACCTCAGTGTCAGTATCAGTCCAGGTGGTCGCCTTCGCCACTGGTGTTCCTTCCTATATCTACGCATTTCACCGCTACACAGGAAATTCCACCACCCTCTACCATACTCTAGCTCGTCAGTTTTGAATGCAGTTCCCAGGTTGAGCCCGGGGATTTCACATCCAACTTAACGAACCACCTACGCGCGCTTTACGCCCAGTAATTCCGATTAACGCTTGCACCCTCTGTATTACCGCGGCTGCTGGCACAGAGTTAGCCGGTGCTTATTCTGTCGGTAACGTCAAAACAATTACGTATTAGGTAACTGCCCTTCCTCCCAACTTAAAGTGCTTTACAATCCGAAGACCTTCTTCACACACGCGGCATGGCTGGATCAGGCTTTCGCCCATTGTCCAATATTCCCCACTGCTGCCTCCCGTAGGAGTCTGGACCGTGTCTCAGTTCCAGTGTGACTGATCATCCTCTCAGACCAGTTACGGATCGTCGCCTTGGTGAGCCATTACCTCACCAACTAGCTAATCCGACCTAGGCTCATCTGATAGCGCAAGGCCCGAAGGTCCCCTGCTTTCTCCCGTAGGACGTATGCGGTATTAGCGTCCGTTTCCGAGCGTTATCCCCCACTACCAGGCAGATTCCTAGGCATTACTCACCCGTCCGCCGCTCTCAAGAGGTGCAAGCACCTCTCTACCGCTCGACTTGCATGTGTTAGGCCTGCCGCCAGCGTTCAATCTGAGCCATGATCAAACTCTTCAGTTCAAA\n",
    ">NODE_2_length_378948_cov_10.006665:348499-350044\n",
    "TTTGAACTGAAGAGTTTGATCATGGCTCAGATTGAACGCTGGCGGCAGGCCTAACACATGCAAGTCGAGCGGTAGAGAGGTGCTTGCACCTCTTGAGAGCGGCGGACGGGTGAGTAATGCCTAGGAATCTGCCTGGTAGTGGGGGATAACGCTCGGAAACGGACGCTAATACCGCATACGTCCTACGGGAGAAAGCAGGGGACCTTCGGGCCTTGCGCTATCAGATGAGCCTAGGTCGGATTAGCTAGTTGGTGAGGTAATGGCTCACCAAGGCGACGATCCGTAACTGGTCTGAGAGGATGATCAGTCACACTGGAACTGAGACACGGTCCAGACTCCTACGGGAGGCAGCAGTGGGGAATATTGGACAATGGGCGAAAGCCTGATCCAGCCATGCCGCGTGTGTGAAGAAGGTCTTCGGATTGTAAAGCACTTTAAGTTGGGAGGAAGGGCAGTTACCTAATACGTAATTGTTTTGACGTTACCGACAGAATAAGCACCGGCTAACTCTGTGCCAGCAGCCGCGGTAATACAGAGGGTGCAAGCGTTAATCGGAATTACTGGGCGTAAAGCGCGCGTAGGTGGTTCGTTAAGTTGGATGTGAAATCCCCGGGCTCAACCTGGGAACTGCATTCAAAACTGACGAGCTAGAGTATGGTAGAGGGTGGTGGAATTTCCTGTGTAGCGGTGAAATGCGTAGATATAGGAAGGAACACCAGTGGCGAAGGCGACCACCTGGACTGATACTGACACTGAGGTGCGAAAGCGTGGGGAGCAAACAGGATTAGATACCCTGGTAGTCCACGCCGTAAACGATGTCAACTAGCCGTTGGGAGCCTTGAGCTCTTAGTGGCGCAGCTAACGCATTAAGTTGACCGCCTGGGGAGTACGGCCGCAAGGTTAAAACTCAAATGAATTGACGGGGGCCCGCACAAGCGGTGGAGCATGTGGTTTAATTCGAAGCAACGCGAAGAACCTTACCAGGCCTTGACATCCAATGAACTTTCCAGAGATGGATTGGTGCCTTCGGGAACATTGAGACAGGTGCTGCATGGCTGTCGTCAGCTCGTGTCGTGAGATGTTGGGTTAAGTCCCGTAACGAGCGCAACCCTTGTCCTTAGTTACCAGCACGTAATGGTGGGCACTCTAAGGAGACTGCCGGTGACAAACCGGAGGAAGGTGGGGATGACGTCAAGTCATCATGGCCCTTACGGCCTGGGCTACACACGTGCTACAATGGTCGGTACAGAGGGTTGCCAAGCCGCGAGGTGGAGCTAATCCCAGAAAACCGATCGTAGTCCGGATCGCAGTCTGCAACTCGACTGCGTGAAGTCGGAATCGCTAGTAATCGCGAATCAGAATGTCGCGGTGAATACGTTCCCGGGCCTTGTACACACCGCCCGTCACACCATGGGAGTGGGTTGCACCAGAAGTAGCTAGTCTAACCTTCGGGAGGACGGTTACCACGGTGTGATTCATGACTGGGGTGAAGTCGTAACAAGGTAGCCGTAGGGGAACCTGCGGCTGGATCACCTCCTTAATCGA"
   ]
  },
  {
   "cell_type": "markdown",
   "metadata": {},
   "source": [
    "## SeqMatch\n",
    "\n",
    "From all 6 sequences, the resulted showed **'genus Pseudomonas (20)'**  \n",
    "\n",
    "Out of all of our sequences, all had similar results. The top similarity score was frederiksbrgensis and the most common match was Pseudomonas mandelii.\n",
    "\n",
    "The picture below shows the seqMatch result of 1 match.\n",
    "![seqmatch](./seqmatch.JPG)"
   ]
  },
  {
   "cell_type": "markdown",
   "metadata": {},
   "source": [
    "## Annotation Results\n",
    "\n",
    "RAST : http://rast.nmpdr.org/seedviewer.cgi?page=Organism&organism=6666666.379160  [ID : mikeandjinho  PW : OCbAUlEJ ]  \n",
    "Basys : https://www.basys.ca/server4/basys/cache/1b7c99b2e97cf40b0956ed05a1d0f30f/index.html  \n",
    "\n",
    "![rast](./rast_result.JPG)\n",
    "![basys](./basys_result.JPG)"
   ]
  },
  {
   "cell_type": "markdown",
   "metadata": {},
   "source": [
    "## Write-up question\n",
    "\n",
    "\n",
    "#### Does your genome encode any known antibiotic resistance genes? Do you expect it to be susceptible to penicillin, tetracycline, or chloramphenicol?\n",
    "\n",
    "Our sequenced genome was identified as gram negative Pseudomonas aeruginosa and in our annotation the bacterium had several drug resistance markers. In the RAST annotation the system identified tolerance to colicin E2, streptothricin and fosfomycin resistance as well as multidrug resistance via efflux pumps. As note in Multi drug-resistance efflux pumps –not just for resistance by Laura J.V Piddock, efflux pumps serve to pump antibiotics out of the cytosol of the bacteria. In this paper chloramphenicol, penicillin and tetracycline are mentioned as being susceptible to efflux pump overexpression resistance. The pumps that are responsible for this resistance in gram negative bacteria are members of the RND family. These pumps connect the inner and outer membranes and mutants typically have 2-8 fold higher expression of these efflux pumps. This paper also cites the experiments with Pseudomonas aeruginosa lacking efflux pumps lack the ability to infect invade epithelial kidney cells and are only able to invade these cells with further complementation of efflux pumps. This causes me to believe that the strain of Pseudomonas aeruginosa that we sequenced may both have antibiotic resistance as well as higher levels of virulence. This makes sense because the factors that allow a bacteria to propagate are dependant on sending out virulence determinants into the environment. Whether the bacteria we sequence has upregulation up these genes is difficult to determine but through the BASys annotation system we were able to identify emrA and emrB, two proteins involved in efflux pump pathway. This further supports the idea that our strain has multiple drugs resistance via the efflux pump mechanism. \n",
    "\n",
    "https://journals.plos.org/ploscompbiol/article?id=10.1371/journal.pcbi.1004095  \n",
    "https://www.ncbi.nlm.nih.gov/pubmed/16845433\n",
    "\n",
    "#### Horizontal gene transfer is common among bacteria. Is there any evidence for HGT in your genome?\n",
    "\n",
    "Horizontal gene transfer(HGT) is common among bacteria, compared to eukaryotes. The mechanism of HGT is to transfer genes from one to another not by genetics, but by physical transfering process. There are 4 known mechanisms for HGT, which are transformation, transduction, bacterial conjugation and by gene transferring agents. According to Matt Ravenhall from 'Inferring Horizontal Gene Transfer', there are various methods for detecting (or inferring) HGT evidences from a genome. Most basically, phylogenetic methods are used to find HGT evidences and marks. However, for some cases where its phylogeny is not known, it is inevitable to apply an alternative method, which is detecting radical changes in nucleotide composition (e.g. G-C content %). In RAST and Basys, phylogenetic analysis is not made since the main purpose of these programs are to add annotations in sequences. However, in Basys annotation, we could find out overall review about sliding nucleotide composition. For HGT regions in the genome, the nucleotide composition is obviously different from non-HGT regions, which leads to notable points in GC content graph. The graph is shown below. There are 4 inferrable locations of HGT, assuming the criteria of HGT as 50% G-C content. They are located at approximately 10k, 100k, 230k, 370k-390k. For the first three results, there are obvious argmax for each position, in which we can strongly infer the evidence of HGT. However, for the the fourth result, 370k-390k, it would be hard to define this position as HGT, since the normal length of HGT does not exceed 1kb, while this region has length over 20kb, by Vadim Mozhayskiy-'Horizontal gene transfer dynamics and distribution of fitness effects during microbial in silico evolution'. As we can figure out from this case, it is difficult to define HGT only by nucleotide composition, thus phylogenetic approach or BLAST process should be made as well to support the vague inference.\n",
    "\n",
    "\n"
   ]
  },
  {
   "cell_type": "markdown",
   "metadata": {},
   "source": [
    "![gccontent](./gccontent.JPG)"
   ]
  },
  {
   "cell_type": "markdown",
   "metadata": {},
   "source": [
    "https://www.ncbi.nlm.nih.gov/pmc/articles/PMC4462595/\n",
    "https://www.researchgate.net/publication/230614308_Horizontal_gene_transfer_dynamics_and_distribution_of_fitness_effects_during_microbial_in_silico_evolution"
   ]
  }
 ],
 "metadata": {
  "kernelspec": {
   "display_name": "Python 3",
   "language": "python",
   "name": "python3"
  },
  "language_info": {
   "codemirror_mode": {
    "name": "ipython",
    "version": 3
   },
   "file_extension": ".py",
   "mimetype": "text/x-python",
   "name": "python",
   "nbconvert_exporter": "python",
   "pygments_lexer": "ipython3",
   "version": "3.6.6"
  }
 },
 "nbformat": 4,
 "nbformat_minor": 2
}
