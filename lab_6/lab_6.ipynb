{
 "cells": [
  {
   "cell_type": "markdown",
   "metadata": {},
   "source": [
    "# Lab Notebook\n",
    "\n",
    "    Course: BioE 131\n",
    "    Lab No: Lab #6\n",
    "    Submission date: 03/10/2018\n",
    "    \n",
    "    Team members: Michael Fernandez, Jinho Ko\n",
    "    "
   ]
  },
  {
   "cell_type": "markdown",
   "metadata": {},
   "source": [
    "# 1. Processing Data via Terminal\n",
    "\n",
    "![commands.PNG](./commands.PNG)"
   ]
  },
  {
   "cell_type": "markdown",
   "metadata": {},
   "source": [
    "### First, run  \n",
    "To commpare reads to human:\n",
    "'''python\n",
    "bowtie2 –p 4 --very-fast --no-unal -x database -U reads.fastq -S output.sam--un unaligned.fastq\n",
    "'''\n",
    "\n",
    "To compare reads to S. oneidensis MR-1:\n",
    "bowtie2 –p 4 --very-fast --no-unal -x database -U reads.fastq -S output.sam--un unaligned.fastq\n",
    "\n",
    "### Then convert all files to bam files  \n",
    "samtools view –b my_alignment.sam > my_alignment.bam\n",
    "\n",
    "### Then do sorting  \n",
    "samtools sort my_alignment.bam > my_alignment.sorted.bam\n",
    "\n",
    "### Then do indexing   \n",
    "samtools index my_alignment.sorted.bam\n",
    "\n",
    "### Then we depth it  \n",
    "samtools depth –a my_alignment.sorted.bam > pileup.tab\n"
   ]
  },
  {
   "cell_type": "markdown",
   "metadata": {},
   "source": [
    "# Graphing\n",
    "\n",
    "What is the min, max, and mean coverage across all positions?\n",
    "\n"
   ]
  },
  {
   "cell_type": "code",
   "execution_count": 1,
   "metadata": {},
   "outputs": [
    {
     "name": "stdout",
     "output_type": "stream",
     "text": [
      "Saved!\n"
     ]
    }
   ],
   "source": [
    "rs_io = open('R_S.tab','r')\n",
    "rs_list = []\n",
    "\n",
    "for line in rs_io.read().split('\\n'):\n",
    "    rs = line.split('\\t')\n",
    "    #print(rs)\n",
    "    if len(rs) <3:\n",
    "        continue\n",
    "    rs[1] = int(rs[1])\n",
    "    rs[2] = int(rs[2])\n",
    "    #print(rs[0],rs[1],rs[2])\n",
    "    rs_list.append(rs)\n",
    "    \n",
    "rs_io.close()\n",
    "print('Saved!')\n"
   ]
  },
  {
   "cell_type": "code",
   "execution_count": 83,
   "metadata": {},
   "outputs": [
    {
     "name": "stdout",
     "output_type": "stream",
     "text": [
      "st\n",
      "Saved!\n"
     ]
    }
   ],
   "source": [
    "rh_io = open('RHnew.tab','r')\n",
    "rh_list = []\n",
    "\n",
    "print('st')\n",
    "for line in rh_io.read().split('\\n'):\n",
    "    \n",
    "    rh = line.split('\\t')\n",
    "    if len(rh) <3:\n",
    "        continue\n",
    "    rh[1] = int(rh[1])\n",
    "    rh[2] = int(rh[2])\n",
    "    rh_list.append(rh)\n",
    "    \n",
    "rh_io.close()\n",
    "print('Saved!')"
   ]
  },
  {
   "cell_type": "markdown",
   "metadata": {},
   "source": [
    "# Plotting Graphs "
   ]
  },
  {
   "cell_type": "code",
   "execution_count": 74,
   "metadata": {},
   "outputs": [
    {
     "name": "stdout",
     "output_type": "stream",
     "text": [
      "loading!...\n",
      "loaded! building...\n",
      "drawing...\n"
     ]
    },
    {
     "data": {
      "image/png": "[encoded data removed]",
      "text/plain": [
       "<Figure size 432x288 with 1 Axes>"
      ]
     },
     "metadata": {
      "needs_background": "light"
     },
     "output_type": "display_data"
    },
    {
     "name": "stdout",
     "output_type": "stream",
     "text": [
      "histogram\n"
     ]
    },
    {
     "data": {
      "image/png": "[encoded data removed]",
      "text/plain": [
       "<Figure size 432x288 with 1 Axes>"
      ]
     },
     "metadata": {
      "needs_background": "light"
     },
     "output_type": "display_data"
    },
    {
     "name": "stdout",
     "output_type": "stream",
     "text": [
      "done!\n"
     ]
    }
   ],
   "source": [
    "import matplotlib.pyplot as plt\n",
    "from matplotlib.pyplot import figure\n",
    "import math\n",
    "import numpy as np\n",
    "\n",
    "print('loading!...')\n",
    "\n",
    "ind = []\n",
    "ly = []\n",
    "\n",
    "def average(lis):\n",
    "    return sum(lis)/len(lis)\n",
    "\n",
    "def refactor(arr, delta, func) :\n",
    "    \n",
    "    n = int(len(arr)/delta)\n",
    "    newarr = []\n",
    "    for i in range(n):\n",
    "        newarr.append(func(arr[i*delta:(i+1)*delta]))\n",
    "#     leftover_index = len(arr)-n*delta\n",
    "#     newarr.append(func(arr[leftover_index:-1]))\n",
    "    \n",
    "    return newarr\n",
    "\n",
    "for x in rs_list:\n",
    "    ind.append(x[1])\n",
    "    ly.append(x[2])\n",
    "    \n",
    "DELTA = 20000   # we set DELTA, as a length of each data CHUNKS\n",
    "\n",
    "ind = refactor(ind, DELTA, average)\n",
    "ind = [int(i) for i in ind]\n",
    "\n",
    "ly_max = refactor(ly, DELTA, max)\n",
    "ly_min = refactor(ly, DELTA, min)\n",
    "\n",
    "print('loaded! building...')\n",
    "p1 = plt.bar(np.arange(len(ly_max)),ly_max, 1.0, bottom = ly_min )  # plot mininum to maximum values in each chunk\n",
    "\n",
    "plt.xlabel('Positions in Genome (x'+str(DELTA)+')' )\n",
    "plt.ylabel('Depth of Coverage')\n",
    "\n",
    "print('drawing...')\n",
    "\n",
    "index = [ (ind[0]+i*DELTA) for i in range( int((ind[-1]-ind[0])/DELTA) ) ]\n",
    "#plt.xticks( index )\n",
    "plt.show()\n",
    "\n",
    "plt.xlabel('Depth of Coverage' )\n",
    "plt.ylabel('Count')\n",
    "p2 = plt.hist(ly, bins=100)\n",
    "print('histogram')\n",
    "\n",
    "plt.show()\n",
    "\n",
    "print('done!')"
   ]
  },
  {
   "cell_type": "markdown",
   "metadata": {},
   "source": [
    "# Extra credit 1 : Graphing Human genome results, sex identification"
   ]
  },
  {
   "cell_type": "code",
   "execution_count": 114,
   "metadata": {},
   "outputs": [
    {
     "name": "stdout",
     "output_type": "stream",
     "text": [
      "st\n",
      "[24925062, 24319937, 19802243, 19115427, 18091526, 17111506, 15913866, 14636402, 14121343, 13553474, 13500651, 13385189, 11516987, 10734954, 10253139, 9035475, 8119521, 7807724, 5912898, 6302552, 4812989, 5130456, 15527056, 5937356]\n"
     ]
    },
    {
     "data": {
      "image/png": "[encoded data removed]",
      "text/plain": [
       "<Figure size 432x288 with 1 Axes>"
      ]
     },
     "metadata": {
      "needs_background": "light"
     },
     "output_type": "display_data"
    }
   ],
   "source": [
    "#rh_list\n",
    "\n",
    "#figure(num=None, figsize=(17, 10), dpi=50)\n",
    "\n",
    "print('st')\n",
    "chr_list = []\n",
    "sum_list = [0 for i in range(24)]\n",
    "\n",
    "for i in range(1,23):\n",
    "    chr_list.append('chr'+str(i))\n",
    "chr_list.append('chrX')\n",
    "chr_list.append('chrY')\n",
    "\n",
    "for i in rh_list:\n",
    "    if i[0] not in chr_list:\n",
    "        continue\n",
    "    idx = chr_list.index(i[0])\n",
    "    sum_list[idx]+=i[2]\n",
    "    avg_list[idx]+=1\n",
    "\n",
    "len_io = open('RHnew.sam','r')\n",
    "len_list = [0 for _ in range(24)]\n",
    "\n",
    "for n, line in enumerate(len_io.read().split('\\n')):\n",
    "\n",
    "    if not 0 in len_list:\n",
    "        break\n",
    "\n",
    "    if 'LN' in line:\n",
    "        len_list[n-1] = int(line[line.index('LN:')+3:-1])\n",
    "\n",
    "len_io.close()\n",
    "            \n",
    "print(len_list)\n",
    "\n",
    "#print(chr_list, sum_list)\n",
    "\n",
    "#print([sum_list[i]/avg_list[i] for i in range(24)])\n",
    "\n",
    "p3 = plt.bar(np.arange(24),[ sum_list[i]/len_list[i] for i in range(24)], 0.8 )\n",
    "plt.xlabel('Chromosome' )\n",
    "plt.ylabel('Average Depth')\n",
    "\n",
    "#plt.ylim([0.999,1.002])\n",
    "plt.xticks(np.arange(24), chr_list)\n",
    "\n",
    "plt.show()"
   ]
  },
  {
   "cell_type": "markdown",
   "metadata": {},
   "source": [
    "Since there are Y in chromosome, we guess that Jamie is men."
   ]
  },
  {
   "cell_type": "markdown",
   "metadata": {},
   "source": [
    "# Extra credit 2 : BLAST high-depth sequences"
   ]
  },
  {
   "cell_type": "markdown",
   "metadata": {},
   "source": [
    "Find out all the sequence number that has depth>1 from human tab files"
   ]
  },
  {
   "cell_type": "code",
   "execution_count": 122,
   "metadata": {
    "scrolled": true
   },
   "outputs": [
    {
     "name": "stdout",
     "output_type": "stream",
     "text": [
      "st\n",
      "chr7\n",
      "84306892 : 84306947\n",
      "chr12\n",
      "45285619 : 45285689\n",
      "chr15\n",
      "30510261 : 30510286\n",
      "chr15\n",
      "34688969 : 34689020\n",
      "chr16\n",
      "33097974 : 33098091\n",
      "chrY\n",
      "18485047 : 18485209\n",
      "chrY\n",
      "27170225 : 27170465\n"
     ]
    }
   ],
   "source": [
    "print('st')\n",
    "\n",
    "blast = []\n",
    "\n",
    "ON = False\n",
    "\n",
    "for i in rh_list:\n",
    "    \n",
    "    if i[2] >1:\n",
    "        if not ON:\n",
    "            #print('ON!')\n",
    "            ON = True\n",
    "            print(i[0])\n",
    "            print(str(i[1])+' : ',end='')\n",
    "            blast.append(str(i[1]))\n",
    "    else:\n",
    "        if ON:\n",
    "            print(i[1])\n",
    "            #print('OFF')\n",
    "            ON = False\n",
    "            "
   ]
  },
  {
   "cell_type": "markdown",
   "metadata": {},
   "source": [
    "Find out sequence data from the reads(sam file), and BLAST them."
   ]
  },
  {
   "cell_type": "code",
   "execution_count": 118,
   "metadata": {},
   "outputs": [
    {
     "name": "stdout",
     "output_type": "stream",
     "text": [
      "read77943\t16\tchrY\t18485047\t1\t300M\t*\t0\t0\tTTGTAAACTCTTACAATGAACTCATAAAGTTAGAACAAAGTTAAAAATAATTGCTATCTAAGTATCAGAGTTAGAATAAATTATTCCCAAGGTTTCCCCTCACTTTAAGTTTCCCTGATTCTTGTATTTTTTACTTAAATTGGATATACAATTACTATTTTTTCATTATTTAATTCATAATACATTTGGTAAAATAATTTCTTTTTAAGTAAAACATTTAATAGTGCAGTTTGGTTCGTGTTAATTATACTTCAACGAACCCCTTATGTTACTTGCCTAGTGACAGAGTATGTGGGTAAA\tBGFGFB5=>@GFFFG'GFFGEAFFGCF4=>FFFG1D@<BD7@4E?F0DCGEGFFGGC7>:>CDG-GFGGAGGGGGEGGFB=FEGFFGFGCGEEFGEGFFGG?FFBCGAGGGEEGGGAGGDGDG@?GD/EGFGF-<:FDFGG46G9GFFAFFGFGGGFGGCGE&FGFGFGGGEGG>DFG(EEGGGFEGG:DFGGGFGGGFG:GGGGGFGFBEGAFCCFFGGFEGGGGGGGGGG7AEFEGFFGCGGG;GGGGDFFFEG:GGEEFFGGEGGGGDGEC<FGAGCGG6GFGBD4EGGGGCGGGFG\tAS:i:-5\tXS:i:-5\tXN:i:0\tXM:i:1\tXO:i:0\tXG:i:0\tNM:i:1\tMD:Z:154T145\tYT:Z:UU\n",
      "read334190\t16\tchr15\t30510261\t1\t300M\t*\t0\t0\tTGCCTTTTTGTAACTTAATCTCAGAAGTGACATCTGCTGTGTTCTGTATGTTAGAAGTGAGTCACTAAGTCCAGCTGAAACTCAGGGGAGGGCTTGCCTACCAGGAGGCAGGAATCACCAGGACCCATCAGAGACACCGTCTACCCCAGTCTGTGCTCGGGTCCTTCATGTCTCTCCCTCCTGAAATTTGATAGATTCTGCAAAAGAAAAAGCCTTGATCCACGCTGCTTTCTAGAATGTTGTAGTGAAAAGCAAGTCAGTGTGGTACATTCAGAGTAATTTTATAATTTTATAATTTAA\t86FG9FDGGF@GFBCAECFFEC61E=GGCED&)GGGGGDC:DE=4EG=GGGG>@9FGGDEG6FEGGFD@A;FDCCGEEFFGFGGAGGGGF.FCEBE5FFFBB>=GGFGD>G2GBE:8FF4GGGAGGE/6GGGGGE4/C'GGGG?DFBFGD5G4EGGFGEGFGGFGBCGGFGGCFGFFFDGFEGFGGDG@FG1GD;GFEGA:C+EGFFGGG?CGGGGFGGGG=FFGGGCGBCF,G@45<8BFFG<GGFG?@GDGFDGGDFGGGFGG2GDEGGFFGGGF8GFGGGGGE;GBGFFGGGGGGGG\tAS:i:0\tXS:i:0\tXN:i:0\tXM:i:0\tXO:i:0\tXG:i:0\tNM:i:0\tMD:Z:300\tYT:Z:UU\n",
      "read507912\t16\tchrY\t27170225\t1\t300M\t*\t0\t0\tATGTCCTGTTTTTACGTGTGACAGTTGGCTGCAACCATGTGGGATGATGACAGTTATTTCTGTCAGCTGGGTTTGCATACAGGACTCACAATTTCACCTGTGTGCTGAGTGCTACATTGGTTCTGCTTGTATAACCCAAAGACTCTATAAAAGTATGTGTCAATGTTGTAATCTTTTGTGATGTTTGTACAAGAATGTGATCCATGATATCACACATGTCCCTACACCTAGTTATAAGAGCCTAAATATTCTCTATTTGCTGAGTTCACATCTAAGAGTCGTTATCATTCCTGCGAGCCT\tF@FB73FF0F6DB;F9GG<D:EDEG>09@-F5F<FA@BD:EDAFFFA9GGD<FGD*E>DF7FC,EGGGGD4GFFFGGF=AGGGFGGGFFFGFGF@3DBFGGGF;FFFFGFGFGGFG+0B8FGGFC5?BEGGGGGG?GCG>DFGFEFEGGGD7GBGFBFGCGDD08GGGEGFFBCGGGGGFBDCGGDFGFDGGGGGGFGGGGGGCFF/GGGGGGFGGFGGCAGGGEF=CDGEFGGGDCFGGCGGDFFEFFGGGFBGCDFGGGGG+3GCG>D*GGGF>GGGG>GGGCEFDE?CFGGGGGGFG\tAS:i:0\tXS:i:0\tXN:i:0\tXM:i:0\tXO:i:0\tXG:i:0\tNM:i:0\tMD:Z:300\tYT:Z:UU\n",
      "read515325\t0\tchr12\t45285619\t42\t300M\t*\t0\t0\tAATTGGGTAGAATATGGTTCCATCCCCTGCCTTGAGAGGATCTCAGAACAATATGTTTTGCTAATTATGCAAATATATTTATCAACTGTATGAGTAAAGTAGCCTATAATTTAAAGACTGAGGACTTGTTTTCAAACACATCACAGTAATGAAATGAGCCTATTCCAACAGTATATTCATGGTGCTATGGTTTCCTTTCTAAGCATGGTGATTGTTTCACACTGGGCAAGACATCTGGTGAAGTTGAGAGGCTGTCACCCAGCTGAGAGAATATGTGCATGGTTGGGAGTAGAATTTCCT\tCCCCCGGGGGGGGGGGGFGGGGGGGGGGGGGGGGGGGGGGGGGGGGGGGGGGGGGGGGGGGGFGGGGGGGGGGGGGGFGFFGGGGFGFGGGGGGFGGAGGGEGEGGGGGGGGGGGGGGGGGGFGGGGGGGGGGGGGGGGGGGGFFBEFGGEFFFFAECEAFFEEA@:C@D9C@9@C@EEFFEG9>FC;=EB=DEFFFGGF7C,8,8EEEC777@DFCA:8@666B,6@D6@6D@E9@=EE@E,@;,@5@,+;A7C?CG<F>7C?5?*+33;F8CDF99:EDCDCE59;0?4=8===FFFC\tAS:i:-3\tXN:i:0\tXM:i:1\tXO:i:0\tXG:i:0\tNM:i:1\tMD:Z:204C95\tYT:Z:UU\n",
      "read781959\t16\tchr16\t33097974\t1\t300M\t*\t0\t0\tAGGTCAAACGAAACACCTAACATTGCTAGGGCAGCCTCCCACAACAAAGAATCCTCTGGTCCTAAAGGTAAGTAGCACCAAGATTGAGAAACCATAATCTAGACAGGAAACACTACGTAGCTATTCCAAGTGCGCAGGAAAGCACATCAGTGCCCTCGAGGGGAAAAGTGTAAACATTTTAATTGCTGTACATGGTGACACAAATCCATGTTGTTAATCTAAGTGGAAGGGGCTGAAGCACAAAACATAATTCAAAGAGTTTACTTGAGCCACAATGAGGACAGCTGCCTGGAAGAAACA\t0@GEE)DGF.AEFFD57FD%EG=GGF@==DFGGG5AF??FA0GGEGFDD<BCGEE<59FGGGGGGGF-GFBGB<GAGGGEGBGF?DGGGCGADEFCFEGDFGGG3G;(FFFFFCCCBGGGF:EGEFECE@EFDD>FGGGF5GGGFBGGGFEEGG7GEF;FGGFGG4GGG4EDGGGGC<FFFGGGGGGEECD@7GGDGGGGFEG<GFGG<EGECAGG;GGFEGFD8-GG@FGGEG>GGB>CCGGGE<CFEGACDGFGGBGGG6:GEGEGGFFFDGGGE@GGGFGGG4@@FF.EGGGGAE>&\tAS:i:-5\tXS:i:-5\tXN:i:0\tXM:i:1\tXO:i:0\tXG:i:0\tNM:i:1\tMD:Z:141A158\tYT:Z:UU\n",
      "read854980\t0\tchr7\t84306892\t42\t300M\t*\t0\t0\tTTGTGCTTTGGCAACATTTGTTGTTGTTTGTGAATCACAGCTATGTTCAGTGGTATGTGACTTGCCTCTCGGCACCCAGGAGGCATCAGCAAAAACACCTGTGGCCCAATAAACCACAATTTTTGGGTCCAGTAAATTGGTCAATACACAGCCCACACCAAAATATCACTGAATTTGGCTTTGTATATTTGGTCATTTGATAACCATTCTGCAAAACTGACCCAATTTTTACTGGTTAAAGAACAATATTGCAGGAAAGTAGAGGCAGACAGCTTTTTAAGTCCTTTAAAATGATACAAC\tGGGEFGGGGGGGC7GGDFFGGFFGDEFFF?GGGEGG>GBGFFGBEGEDGG6GFFGGGGGGCGG>FGCGFGBEGG=BG@GEGFFGFGGF?@CGGGGGGEGGGGGGEFFFEG?'GGFGGEFFFFFFFFGC;FGDGEGFEF?DFGGGGFGGGGG17GGGGDGGGGG6GEGGGGGDGGGGGEG8GEG<GGFDFGGGG7EAFG@DGFEGGF6GDFFFEEGB<D6GE@GA9GGFGAE?G>EF@DGG:4$C>:GGG>F=/?GGFGFG*A97GGGGEBGGGC@FG;9%FDFCBG;24@EF45GF/=+.\tAS:i:0\tXN:i:0\tXM:i:0\tXO:i:0\tXG:i:0\tNM:i:0\tMD:Z:300\tYT:Z:UU\n",
      "read1019002\t0\tchr15\t34688969\t1\t300M\t*\t0\t0\tTATTTTAGACCTCATTCTGATCTCCCTCTCCCCGCCAACCCCACCAACTTCTGCCCTGTCATTTATCCTCATATCTCTCTGTGTAACATATTGACTTACTTTTTGGAGATAATGGTCTAACCAATTAATCCTTTCTTCTGGTGTCTAATCCATCCACTCGGTTTCTTATTTCAACAATTCCATTTTATATTTCCTTATTTCATTTTATTCTGAGACAGAGTCTCACTCTGTCACCCAGGCTGGACTGTAGTGGCACGAACCTGCAGCCCTGGCCTCCTGGGCTCAAGTGATCCTCCCACC\tCFEGFGFGGAFF?CGGEFB4D3CGGGGGCF;GCBFFGG984EEFGEFGGGGGGGCFF>G1&BFG?0G,4G2@@GFFFGFGGEDGFGEGGG:'BEGGGG/GGGF;CFDGGE=GGFGGFGE==GGGGGGGGG:2GGGGFGFGGGGGG6GGGCEG??GFB/A9FGGGGEGFGFDFG51DGEG5GGGFGFGGFDFE(GGBFGGCGFEE(3G<CGACBA;-DE>;FEGGGGE::GFEDFDFFG>F@CGC:@DE@:FEGGEDE5EGGFFGG6(GEFDDFCD?FAFG;FBCG891>?EEE:DF)6GG\tAS:i:-2\tXS:i:-2\tXN:i:0\tXM:i:1\tXO:i:0\tXG:i:0\tNM:i:1\tMD:Z:91G208\tYT:Z:UU\n"
     ]
    }
   ],
   "source": [
    "len_io = open('RHnew.sam','r')\n",
    "len_list = [0 for _ in range(24)]\n",
    "\n",
    "for n, line in enumerate(len_io.read().split('\\n')):\n",
    "    for num in blast:\n",
    "        if num in line:\n",
    "            print(line)"
   ]
  },
  {
   "cell_type": "markdown",
   "metadata": {},
   "source": [
    "## BLAST results\n",
    "\n",
    "#### What gene that the sequence features?\n",
    "\n",
    "1.  \n",
    "neuroligin-4, Y-linked isoform X4  \n",
    "testis-specifig XK-related protein, Y-linked 2  \n",
    "![1.jpg](blast_img/1.JPG)\n",
    "\n",
    "2.  \n",
    "?  \n",
    "![2.jpg](blast_img/2.JPG)\n",
    "\n",
    "3.  \n",
    "testis-specific basic protein Y 2  \n",
    "deleted in azoospermia protein 1  \n",
    "![3.jpg](blast_img/3.JPG)\n",
    "\n",
    "4.  \n",
    "protein kinase C-binding protein Nell2 isoform d  \n",
    "![4.jpg](blast_img/4.JPG)\n",
    "\n",
    "5.  \n",
    "TP53-target gene 3 protein isoform X2  \n",
    "immunoglobulin heavy variable 3-11-like  \n",
    "![5.jpg](blast_img/5.JPG)\n",
    "\n",
    "6.\n",
    "semaphorin-3A isoform X1  \n",
    "semaphorin-3D isoform X1  \n",
    "![6.jpg](blast_img/6.JPG)\n",
    "\n",
    "7.  \n",
    "golgin subfamily A member 8A isoform X2  \n",
    "golgin subfamily A member 8B isoform X2  \n",
    "![7.jpg](blast_img/7.JPG)\n",
    "\n"
   ]
  },
  {
   "cell_type": "code",
   "execution_count": null,
   "metadata": {},
   "outputs": [],
   "source": []
  }
 ],
 "metadata": {
  "kernelspec": {
   "display_name": "Python 3",
   "language": "python",
   "name": "python3"
  },
  "language_info": {
   "codemirror_mode": {
    "name": "ipython",
    "version": 3
   },
   "file_extension": ".py",
   "mimetype": "text/x-python",
   "name": "python",
   "nbconvert_exporter": "python",
   "pygments_lexer": "ipython3",
   "version": "3.6.6"
  }
 },
 "nbformat": 4,
 "nbformat_minor": 2
}
