{
 "cells": [
  {
   "cell_type": "code",
   "execution_count": 2,
   "metadata": {},
   "outputs": [],
   "source": [
    "import sqlite3\n",
    "conn = sqlite3.connect('jk.db')\n",
    "\n",
    "c = conn.cursor()"
   ]
  },
  {
   "cell_type": "code",
   "execution_count": 4,
   "metadata": {},
   "outputs": [
    {
     "data": {
      "text/plain": [
       "<sqlite3.Cursor at 0x7f0ec5f9cce0>"
      ]
     },
     "execution_count": 4,
     "metadata": {},
     "output_type": "execute_result"
    }
   ],
   "source": [
    "c.execute('''DROP TABLE gene;''')\n",
    "c.execute('''DROP TABLE enzyme;''')\n",
    "c.execute('''DROP TABLE en_pa;''')\n",
    "c.execute('''DROP TABLE pathway;''')"
   ]
  },
  {
   "cell_type": "code",
   "execution_count": 5,
   "metadata": {},
   "outputs": [
    {
     "data": {
      "text/plain": [
       "<sqlite3.Cursor at 0x7f0ec5f9cce0>"
      ]
     },
     "execution_count": 5,
     "metadata": {},
     "output_type": "execute_result"
    }
   ],
   "source": [
    "c.execute('''CREATE TABLE gene\n",
    "             (id INT, name TEXT, sequence TEXT, eid INT )''')\n",
    "\n",
    "c.execute('''CREATE TABLE enzyme\n",
    "             (id INT, name TEXT, function TEXT )''')\n",
    "\n",
    "c.execute('''CREATE TABLE en_pa\n",
    "             (eid INT, pid INT )''')\n",
    "\n",
    "c.execute('''CREATE TABLE pathway\n",
    "             (id INT, name TEXT, description TEXT )''')"
   ]
  },
  {
   "cell_type": "code",
   "execution_count": 12,
   "metadata": {},
   "outputs": [],
   "source": [
    "for i in range(12):  \n",
    "    c.execute(\"INSERT INTO gene (id, name, sequence, eid) VALUES (\"+ str(i+1) + \", 'gname'  \" +\", 'ATCG' ,\"+ str(i+1) + \")\")"
   ]
  },
  {
   "cell_type": "code",
   "execution_count": 13,
   "metadata": {},
   "outputs": [
    {
     "name": "stderr",
     "output_type": "stream",
     "text": [
      "/usr/lib/python3.5/importlib/_bootstrap.py:222: RuntimeWarning: numpy.dtype size changed, may indicate binary incompatibility. Expected 96, got 88\n",
      "  return f(*args, **kwds)\n",
      "/usr/lib/python3.5/importlib/_bootstrap.py:222: RuntimeWarning: numpy.dtype size changed, may indicate binary incompatibility. Expected 96, got 88\n",
      "  return f(*args, **kwds)\n"
     ]
    },
    {
     "name": "stdout",
     "output_type": "stream",
     "text": [
      "    id   name sequence  eid\n",
      "0    1  gname     ATCG    1\n",
      "1    2  gname     ATCG    2\n",
      "2    3  gname     ATCG    3\n",
      "3    4  gname     ATCG    4\n",
      "4    5  gname     ATCG    5\n",
      "5    6  gname     ATCG    6\n",
      "6    7  gname     ATCG    7\n",
      "7    8  gname     ATCG    8\n",
      "8    9  gname     ATCG    9\n",
      "9   10  gname     ATCG   10\n",
      "10  11  gname     ATCG   11\n",
      "11  12  gname     ATCG   12\n"
     ]
    }
   ],
   "source": [
    "import pandas as pd\n",
    "\n",
    "print (pd.read_sql_query(\"SELECT * FROM gene\",conn))"
   ]
  },
  {
   "cell_type": "code",
   "execution_count": null,
   "metadata": {},
   "outputs": [],
   "source": []
  }
 ],
 "metadata": {
  "kernelspec": {
   "display_name": "Python 3",
   "language": "python",
   "name": "python3"
  },
  "language_info": {
   "codemirror_mode": {
    "name": "ipython",
    "version": 3
   },
   "file_extension": ".py",
   "mimetype": "text/x-python",
   "name": "python",
   "nbconvert_exporter": "python",
   "pygments_lexer": "ipython3",
   "version": "3.5.2"
  }
 },
 "nbformat": 4,
 "nbformat_minor": 2
}
