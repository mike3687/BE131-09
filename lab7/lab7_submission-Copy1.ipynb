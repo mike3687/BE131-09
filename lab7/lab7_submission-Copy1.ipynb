{
 "cells": [
  {
   "cell_type": "markdown",
   "metadata": {},
   "source": [
    "# Lab Notebook\n",
    "\n",
    "    Course: BioE 131\n",
    "    Lab No: Lab #7\n",
    "    Submission date: \n",
    "    \n",
    "    Team members: Michael Fernandez, Jinho Ko\n",
    "    "
   ]
  },
  {
   "cell_type": "markdown",
   "metadata": {},
   "source": [
    "## Simulating the Data"
   ]
  },
  {
   "cell_type": "code",
   "execution_count": 7,
   "metadata": {},
   "outputs": [
    {
     "data": {
      "text/plain": [
       "1000000"
      ]
     },
     "execution_count": 7,
     "metadata": {},
     "output_type": "execute_result"
    }
   ],
   "source": [
    "import numpy as np\n",
    "\n",
    "def b_generator(s, p):\n",
    "    data = np.random.choice( [0,1], size = s, replace = True, p = [p, 1.0-p])\n",
    "    data = np.packbits(data)\n",
    "\n",
    "    return data\n",
    "\n",
    "def DNA_generator(s):\n",
    "    data = np.random.choice( ['A', 'T', 'C', 'G'], size = s, replace = True, p = [ 1.0/4.0 for _ in range(4) ] )\n",
    "    #data = np.packbits(data)\n",
    "    \n",
    "    return data\n",
    "    \n",
    "def Protein_generator(s):\n",
    "    data = np.random.choice( list('ARNDCEQGHILKMFPSTWYV'), size = s, replace = True, p = [1.0/20.0 for _ in range(20)] )\n",
    "    #data = np.packbits(data)\n",
    "\n",
    "    return data\n",
    "    \n",
    "open('zeros_100p', 'wb').write( b_generator( 8* 100 * 2**20 , 1.0))\n",
    "open('zeros_90p', 'wb').write( b_generator(8* 100 * 2**20, 0.9))\n",
    "open('zeros_80p', 'wb').write( b_generator(8* 100 * 2**20, 0.8))\n",
    "open('zeros_70p', 'wb').write( b_generator(8* 100 * 2**20, 0.7))\n",
    "open('zeros_60p', 'wb').write( b_generator(8* 100 * 2**20, 0.6))\n",
    "open('zeros_50p', 'wb').write( b_generator(8* 100 * 2**20, 0.5))\n",
    "\n",
    "open('nt_seq.fa', 'w').write( ''.join(DNA_generator(10**6) ) ) \n",
    "open('aa_seq.fa', 'w').write( ''.join(Protein_generator(10**6)))\n",
    "\n"
   ]
  },
  {
   "cell_type": "markdown",
   "metadata": {},
   "source": [
    "## memo of Compression Time, Rate\n",
    "\n",
    "time gzip –k zeros_100p\n",
    "time bzip2 –k zeros_100p\n",
    "time pbzip2 –k zeros_100p\n",
    "time ArithmeticCompress zeros_100p zeros_100p.art\n",
    "\n",
    "Zeros_100p :  Input size : 105MB \n",
    "- gzip : real 0.686, user 0.656, sys 0.028 | output 102kb\n",
    "- bzip2 :real 1.001s user 0.940  sys 0.060 | output 112B\n",
    "- pbzip2 : real 0.103, user 1.836, sys 0.092 | output 6.52 kb\n",
    "- ArithmeticCompress : 15.115 12.054 0.052 | 1.03 kb\n",
    "\n",
    "Zeros_90p :  Input size : 105MB\n",
    "- gzip :19.292, 19/287. 0.1 | 58.7 MB\n",
    "- bzip2 :11.708, 11.595. 0.112 | 61.2MB\n",
    "- pbzip2 : .767, 18.935. 0.678 | 61.2 MB\n",
    "- ArithmeticCompress : 28.687, 28.569, 0.128 | 49.2 MB\n",
    "\n",
    "Zeros_80p :  Input size : 105MB\n",
    "- gzip :16.043, 15.859. 0.148 | 81.2MB\n",
    "- bzpi2 :12.742, 12.637, 0.104 | 86.6MB\n",
    "- pbzip2 : 0.945, 23.834, 0.865 | 86.7MB\n",
    "- ArithmeticCompress : 11.991, 11.875, 0.116 | 65.8MB\n",
    "\n",
    "Zeros_70p :  Input size : 105MB\n",
    "- gzip : 6.066. 5.929. 0.132 | 93.6MB\n",
    "- bzpi2 :14.83 14.664, 0.153 | 99.8MB\n",
    "- pbzip2 : 1.194 29.801 0.746 | 99.8MB\n",
    "- ArithmeticCompress : 39.193 39.018 0.160 | 92.4MB\n",
    "\n",
    "Zeros_60p :  Input size : 105MB\n",
    "- gzip :6.066 5.929, 0.132 | 93.6\n",
    "- bzpi2 :\n",
    "- pbzip2 : \n",
    "- ArithmeticCompress : \n",
    "\n",
    "Zeros_50p :  Input size : 105MB\n",
    "- gzip :\n",
    "- bzpi2 :\n",
    "- pbzip2 : \n",
    "- ArithmeticCompress : \n",
    "\n",
    "nt_seq.fa :  Input size : 1MB\n",
    "- gzip :\n",
    "- bzpi2 :\n",
    "- pbzip2 : \n",
    "- ArithmeticCompress : \n",
    "\n",
    "aa_seq.fa :  Input size : 1MB\n",
    "- gzip :\n",
    "- bzpi2 :\n",
    "- pbzip2 : \n",
    "- ArithmeticCompress : "
   ]
  },
  {
   "cell_type": "code",
   "execution_count": 7,
   "metadata": {},
   "outputs": [
    {
     "name": "stdout",
     "output_type": "stream",
     "text": [
      "\n",
      "aa_seq.fa\n",
      "lab7_submission-Copy1.ipynb\n",
      "lab7_submission.ipynb\n",
      "nt_seq.fa\n",
      "zeros_100p\n",
      "zeros_100p.gz\n",
      "zeros_50p\n",
      "zeros_60p\n",
      "zeros_70p\n",
      "zeros_80p\n",
      "zeros_90p\n",
      "\n"
     ]
    }
   ],
   "source": [
    "import subprocess\n",
    "\n",
    "# p = subprocess.run(['time'],\n",
    "#                  input = bytes(i,'ascii'),\n",
    "#                  stdout = subprocess.PIPE,\n",
    "#                  stderr = subprocess.PIPE)\n",
    "#         #print(p.stdout.decode())\n",
    "#         st = str(p.stdout.decode())\n",
    "        \n",
    "        \n",
    "pp = subprocess.run(['ls'], stdout = subprocess.PIPE, stderr = subprocess.PIPE)\n",
    "print(pp.stderr.decode())\n",
    "print(pp.stdout.decode())\n",
    "        \n",
    "        "
   ]
  },
  {
   "cell_type": "code",
   "execution_count": null,
   "metadata": {},
   "outputs": [],
   "source": [
    "zeros_100p"
   ]
  },
  {
   "cell_type": "markdown",
   "metadata": {},
   "source": [
    "## Questions\n",
    "\n",
    "Which algorithm achieves the best level of compression on each file type?\n",
    "- answer  \n",
    "\n",
    "Which algorithm is the fastest?\n",
    "- answer  \n",
    "\n",
    "What is the difference between bzip2 andpbzip2? Do you expect one to be faster and why?\n",
    "- a nswer  \n",
    "\n",
    "How does the level of compression change as the percentage of zeros increases? Why does this happen?\n",
    "- a nswer  \n",
    "\n",
    "What is the minimum number of bits required to store a single DNA base?\n",
    "- a nswer  \n",
    "\n",
    "What is the minimum number of bits required to store an amino acid letter?\n",
    "- a nswer  \n",
    "\n",
    "In your tests, how many bits did gzip and bzip2 actually require to store your random DNA and protein sequences?\n",
    "- a nswer  \n",
    "\n",
    "Are gzip and bzip2 performing well on DNA and proteins?\n",
    "- a nswer  \n"
   ]
  },
  {
   "cell_type": "markdown",
   "metadata": {},
   "source": [
    "## Compressing Real Data\n",
    "\n",
    "From your knowledge about querying biological databases, find the nucleic acid sequences of gp120 homologs from at least 10 different HIV isolates and concatenate them together into a single multi-FASTA.\n",
    "\n",
    "A priori, do you expect to achieve better or worse compression here than random data? Why?  \n",
    "- Answer"
   ]
  },
  {
   "cell_type": "code",
   "execution_count": null,
   "metadata": {},
   "outputs": [],
   "source": []
  },
  {
   "cell_type": "markdown",
   "metadata": {},
   "source": [
    "How does the compression ratio of this file compare to random data?  \n",
    "- answer"
   ]
  },
  {
   "cell_type": "markdown",
   "metadata": {},
   "source": [
    "## Estimating compression of 1000 terabytes  \n",
    "\n",
    "Most of the data, say 80%, is re-sequencing of genomes and plasmids that are very similar to each other.  \n",
    "Another 10% might be protein sequences,  \n",
    "and the last 10% are binary microscope images  \n",
    "\n",
    "which we’ll assume follow the worst-case scenario of being completely random.\n",
    "\n"
   ]
  },
  {
   "cell_type": "markdown",
   "metadata": {},
   "source": [
    "Which algorithm do you propose to use for each type of data? \n",
    "- Answer  \n",
    "\n",
    "Provide an estimate for the fraction of space you can save using your compression scheme.  \n",
    "- Answer  \n",
    "\n",
    "You’re working at a biotech company thatgenerates 1000 terabytes of data every day.In a meeting, your bossmentionsthat it coststhe company $50per terabyteof hard disk space, and so every 1% reduction in data that must be stored translates into a $500 savings per day.Your team willget a bonus this year equal to the amount of savingsyou’re able to generate by compressing the company’s data.\n",
    "\n",
    "How much of a bonus do you anticipate receiving this year?  \n",
    "\n",
    "50,000 - 10,160 = 39,840\n",
    "- Answer  \n"
   ]
  },
  {
   "cell_type": "code",
   "execution_count": null,
   "metadata": {},
   "outputs": [],
   "source": []
  }
 ],
 "metadata": {
  "kernelspec": {
   "display_name": "Python 3",
   "language": "python",
   "name": "python3"
  },
  "language_info": {
   "codemirror_mode": {
    "name": "ipython",
    "version": 3
   },
   "file_extension": ".py",
   "mimetype": "text/x-python",
   "name": "python",
   "nbconvert_exporter": "python",
   "pygments_lexer": "ipython3",
   "version": "3.6.6"
  }
 },
 "nbformat": 4,
 "nbformat_minor": 2
}
